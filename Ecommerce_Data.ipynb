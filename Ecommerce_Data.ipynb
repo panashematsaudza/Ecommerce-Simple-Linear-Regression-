{
  "nbformat": 4,
  "nbformat_minor": 0,
  "metadata": {
    "name": "Ecommerce Data",
    "notebookId": 431174416419345,
    "colab": {
      "name": "Ecommerce Data.ipynb",
      "provenance": [],
      "include_colab_link": true
    },
    "kernelspec": {
      "name": "python3",
      "display_name": "Python 3"
    }
  },
  "cells": [
    {
      "cell_type": "markdown",
      "metadata": {
        "id": "view-in-github",
        "colab_type": "text"
      },
      "source": [
        "<a href=\"https://colab.research.google.com/github/panashematsaudza/Ecommerce-Simple-Linear-Regression-/blob/master/Ecommerce_Data.ipynb\" target=\"_parent\"><img src=\"https://colab.research.google.com/assets/colab-badge.svg\" alt=\"Open In Colab\"/></a>"
      ]
    },
    {
      "cell_type": "code",
      "metadata": {
        "id": "kFQ73R0vFu2o",
        "colab_type": "code",
        "colab": {},
        "outputId": "59540814-9896-4b55-a532-da934a4b026e"
      },
      "source": [
        "from pyspark.sql import SparkSession"
      ],
      "execution_count": 0,
      "outputs": [
        {
          "output_type": "display_data",
          "data": {
            "text/html": [
              "<style scoped>\n",
              "  .ansiout {\n",
              "    display: block;\n",
              "    unicode-bidi: embed;\n",
              "    white-space: pre-wrap;\n",
              "    word-wrap: break-word;\n",
              "    word-break: break-all;\n",
              "    font-family: \"Source Code Pro\", \"Menlo\", monospace;;\n",
              "    font-size: 13px;\n",
              "    color: #555;\n",
              "    margin-left: 4px;\n",
              "    line-height: 19px;\n",
              "  }\n",
              "</style>\n",
              "<div class=\"ansiout\"></div>"
            ]
          },
          "metadata": {
            "tags": []
          }
        }
      ]
    },
    {
      "cell_type": "code",
      "metadata": {
        "id": "jyh0qJcbFu2z",
        "colab_type": "code",
        "colab": {},
        "outputId": "21686a7a-7ba3-41f3-f8e2-d1a37d530fcb"
      },
      "source": [
        "spark = SparkSession.builder.appName('Ecommerce').getOrCreate()\n"
      ],
      "execution_count": 0,
      "outputs": [
        {
          "output_type": "display_data",
          "data": {
            "text/html": [
              "<style scoped>\n",
              "  .ansiout {\n",
              "    display: block;\n",
              "    unicode-bidi: embed;\n",
              "    white-space: pre-wrap;\n",
              "    word-wrap: break-word;\n",
              "    word-break: break-all;\n",
              "    font-family: \"Source Code Pro\", \"Menlo\", monospace;;\n",
              "    font-size: 13px;\n",
              "    color: #555;\n",
              "    margin-left: 4px;\n",
              "    line-height: 19px;\n",
              "  }\n",
              "</style>\n",
              "<div class=\"ansiout\"></div>"
            ]
          },
          "metadata": {
            "tags": []
          }
        }
      ]
    },
    {
      "cell_type": "code",
      "metadata": {
        "id": "SXHGBzUiFu27",
        "colab_type": "code",
        "colab": {},
        "outputId": "5ee97a55-375b-4d07-d66e-a3e080c00288"
      },
      "source": [
        "from pyspark.ml.regression import LinearRegression"
      ],
      "execution_count": 0,
      "outputs": [
        {
          "output_type": "display_data",
          "data": {
            "text/html": [
              "<style scoped>\n",
              "  .ansiout {\n",
              "    display: block;\n",
              "    unicode-bidi: embed;\n",
              "    white-space: pre-wrap;\n",
              "    word-wrap: break-word;\n",
              "    word-break: break-all;\n",
              "    font-family: \"Source Code Pro\", \"Menlo\", monospace;;\n",
              "    font-size: 13px;\n",
              "    color: #555;\n",
              "    margin-left: 4px;\n",
              "    line-height: 19px;\n",
              "  }\n",
              "</style>\n",
              "<div class=\"ansiout\"></div>"
            ]
          },
          "metadata": {
            "tags": []
          }
        }
      ]
    },
    {
      "cell_type": "code",
      "metadata": {
        "id": "1LQvQ8WMFu3B",
        "colab_type": "code",
        "colab": {},
        "outputId": "ee471045-b3e2-4ada-8709-232e5ee867d6"
      },
      "source": [
        "df = spark.sql(\"Select * FROM ecommerce_customers\")"
      ],
      "execution_count": 0,
      "outputs": [
        {
          "output_type": "display_data",
          "data": {
            "text/html": [
              "<style scoped>\n",
              "  .ansiout {\n",
              "    display: block;\n",
              "    unicode-bidi: embed;\n",
              "    white-space: pre-wrap;\n",
              "    word-wrap: break-word;\n",
              "    word-break: break-all;\n",
              "    font-family: \"Source Code Pro\", \"Menlo\", monospace;;\n",
              "    font-size: 13px;\n",
              "    color: #555;\n",
              "    margin-left: 4px;\n",
              "    line-height: 19px;\n",
              "  }\n",
              "</style>\n",
              "<div class=\"ansiout\"></div>"
            ]
          },
          "metadata": {
            "tags": []
          }
        }
      ]
    },
    {
      "cell_type": "code",
      "metadata": {
        "id": "ECvyyKDoFu3H",
        "colab_type": "code",
        "colab": {},
        "outputId": "7ce12186-28af-4dec-a1e8-171178d46173"
      },
      "source": [
        "df.printSchema()"
      ],
      "execution_count": 0,
      "outputs": [
        {
          "output_type": "display_data",
          "data": {
            "text/html": [
              "<style scoped>\n",
              "  .ansiout {\n",
              "    display: block;\n",
              "    unicode-bidi: embed;\n",
              "    white-space: pre-wrap;\n",
              "    word-wrap: break-word;\n",
              "    word-break: break-all;\n",
              "    font-family: \"Source Code Pro\", \"Menlo\", monospace;;\n",
              "    font-size: 13px;\n",
              "    color: #555;\n",
              "    margin-left: 4px;\n",
              "    line-height: 19px;\n",
              "  }\n",
              "</style>\n",
              "<div class=\"ansiout\">root\n",
              "-- Email: string (nullable = true)\n",
              "-- Address: string (nullable = true)\n",
              "-- Avatar: string (nullable = true)\n",
              "-- Avg Session Length: double (nullable = true)\n",
              "-- Time on App: double (nullable = true)\n",
              "-- Time on Website: double (nullable = true)\n",
              "-- Length of Membership: double (nullable = true)\n",
              "-- Yearly Amount Spent: double (nullable = true)\n",
              "\n",
              "</div>"
            ]
          },
          "metadata": {
            "tags": []
          }
        }
      ]
    },
    {
      "cell_type": "code",
      "metadata": {
        "id": "l1YPB3mvFu3M",
        "colab_type": "code",
        "colab": {},
        "outputId": "13cd7b91-72c1-4f00-cc94-c064eaa870a9"
      },
      "source": [
        "df.show()"
      ],
      "execution_count": 0,
      "outputs": [
        {
          "output_type": "display_data",
          "data": {
            "text/html": [
              "<style scoped>\n",
              "  .ansiout {\n",
              "    display: block;\n",
              "    unicode-bidi: embed;\n",
              "    white-space: pre-wrap;\n",
              "    word-wrap: break-word;\n",
              "    word-break: break-all;\n",
              "    font-family: \"Source Code Pro\", \"Menlo\", monospace;;\n",
              "    font-size: 13px;\n",
              "    color: #555;\n",
              "    margin-left: 4px;\n",
              "    line-height: 19px;\n",
              "  }\n",
              "</style>\n",
              "<div class=\"ansiout\">+--------------------+--------------------+----------------+------------------+------------------+------------------+--------------------+-------------------+\n",
              "               Email|             Address|          Avatar|Avg Session Length|       Time on App|   Time on Website|Length of Membership|Yearly Amount Spent|\n",
              "+--------------------+--------------------+----------------+------------------+------------------+------------------+--------------------+-------------------+\n",
              "mstephenson@ferna...|835 Frank TunnelW...|          Violet| 34.49726772511229| 12.65565114916675| 39.57766801952616|  4.0826206329529615|  587.9510539684005|\n",
              "   hduke@hotmail.com|4547 Archer Commo...|       DarkGreen| 31.92627202636016|11.109460728682564|37.268958868297744|    2.66403418213262|  392.2049334443264|\n",
              "    pallen@yahoo.com|24645 Valerie Uni...|          Bisque|33.000914755642675|11.330278057777512|37.110597442120856|   4.104543202376424| 487.54750486747207|\n",
              "riverarebecca@gma...|1414 David Throug...|     SaddleBrown| 34.30555662975554|13.717513665142507| 36.72128267790313|   3.120178782748092|  581.8523440352177|\n",
              "mstephens@davidso...|14023 Rodriguez P...|MediumAquaMarine| 33.33067252364639|12.795188551078114| 37.53665330059473|   4.446308318351434|  599.4060920457634|\n",
              "alvareznancy@luca...|645 Martha Park A...|     FloralWhite|33.871037879341976|12.026925339755056| 34.47687762925054|   5.493507201364199|   637.102447915074|\n",
              "katherine20@yahoo...|68388 Reyes Light...|   DarkSlateBlue| 32.02159550138701|11.366348309710526| 36.68377615286961|   4.685017246570912|  521.5721747578274|\n",
              "  awatkins@yahoo.com|Unit 6538 Box 898...|            Aqua|32.739142938380326| 12.35195897300293| 37.37335885854755|  4.4342734348999375|  549.9041461052942|\n",
              "vchurch@walter-ma...|860 Lee KeyWest D...|          Salmon| 33.98777289568564|13.386235275676436|37.534497341555735|  3.2734335777477144|  570.2004089636196|\n",
              "    bonnie69@lin.biz|PSC 2734, Box 525...|           Brown|31.936548618448917|11.814128294972196| 37.14516822352819|   3.202806071553459|  427.1993848953282|\n",
              "andrew06@peterson...|26104 Alexander G...|          Tomato|33.992572774953736|13.338975447662113| 37.22580613162114|   2.482607770510596|  492.6060127179966|\n",
              "ryanwerner@freema...|Unit 2413 Box 034...|          Tomato| 33.87936082480498|11.584782999535266| 37.08792607098381|    3.71320920294043|  522.3374046069357|\n",
              "   knelson@gmail.com|6705 Miller Orcha...|       RoyalBlue|29.532428967057943|10.961298400154098| 37.42021557502538|   4.046423164299585|  408.6403510726275|\n",
              "wrightpeter@yahoo...|05302 Dunlap Ferr...|          Bisque| 33.19033404372265|12.959226091609382|36.144666700041924|   3.918541839158999|  573.4158673313865|\n",
              "taylormason@gmail...|7773 Powell Sprin...|        DarkBlue|32.387975853153876|13.148725692056516| 36.61995708279922|   2.494543646659249|  470.4527333009554|\n",
              " jstark@anderson.com|49558 Ramirez Roa...|            Peru|30.737720372628182|12.636606052000127|36.213763093698624|  3.3578468423262944|  461.7807421962299|\n",
              " wjennings@gmail.com|6362 Wilson Mount...|      PowderBlue| 32.12538689728784|11.733861690857394|  34.8940927514398|  3.1361327164897803| 457.84769594494855|\n",
              "rebecca45@hale-ba...|8982 Burton RowWi...|       OliveDrab|32.338899323067196|12.013194694014402| 38.38513659413844|   2.420806160901484| 407.70454754954415|\n",
              "alejandro75@hotma...|64475 Andre Club ...|            Cyan|32.187812045932155|  14.7153875441565| 38.24411459434352|   1.516575580831944|  452.3156754800354|\n",
              "samuel46@love-wes...|544 Alexander Hei...|   LightSeaGreen| 32.61785606282345|13.989592555825254|37.190503800397956|   4.064548550437977|   605.061038804892|\n",
              "+--------------------+--------------------+----------------+------------------+------------------+------------------+--------------------+-------------------+\n",
              "only showing top 20 rows\n",
              "\n",
              "</div>"
            ]
          },
          "metadata": {
            "tags": []
          }
        }
      ]
    },
    {
      "cell_type": "code",
      "metadata": {
        "id": "XhVdcRPeFu3S",
        "colab_type": "code",
        "colab": {},
        "outputId": "14fc3e9d-8c32-42c4-b03a-6d6d5390560f"
      },
      "source": [
        "df.head(1)"
      ],
      "execution_count": 0,
      "outputs": [
        {
          "output_type": "display_data",
          "data": {
            "text/html": [
              "<style scoped>\n",
              "  .ansiout {\n",
              "    display: block;\n",
              "    unicode-bidi: embed;\n",
              "    white-space: pre-wrap;\n",
              "    word-wrap: break-word;\n",
              "    word-break: break-all;\n",
              "    font-family: \"Source Code Pro\", \"Menlo\", monospace;;\n",
              "    font-size: 13px;\n",
              "    color: #555;\n",
              "    margin-left: 4px;\n",
              "    line-height: 19px;\n",
              "  }\n",
              "</style>\n",
              "<div class=\"ansiout\">Out[9]: [Row(Email=&#39;mstephenson@fernandez.com&#39;, Address=&#39;835 Frank TunnelWrightmouth, MI 82180-9605&#39;, Avatar=&#39;Violet&#39;, Avg Session Length=34.49726772511229, Time on App=12.65565114916675, Time on Website=39.57766801952616, Length of Membership=4.0826206329529615, Yearly Amount Spent=587.9510539684005)]</div>"
            ]
          },
          "metadata": {
            "tags": []
          }
        }
      ]
    },
    {
      "cell_type": "code",
      "metadata": {
        "id": "1sbBjMmaFu3b",
        "colab_type": "code",
        "colab": {},
        "outputId": "28fdb55b-d23a-45da-9267-85aecbdf73bb"
      },
      "source": [
        "for item in df.head(2)[1]:\n",
        "  print(item)"
      ],
      "execution_count": 0,
      "outputs": [
        {
          "output_type": "display_data",
          "data": {
            "text/html": [
              "<style scoped>\n",
              "  .ansiout {\n",
              "    display: block;\n",
              "    unicode-bidi: embed;\n",
              "    white-space: pre-wrap;\n",
              "    word-wrap: break-word;\n",
              "    word-break: break-all;\n",
              "    font-family: \"Source Code Pro\", \"Menlo\", monospace;;\n",
              "    font-size: 13px;\n",
              "    color: #555;\n",
              "    margin-left: 4px;\n",
              "    line-height: 19px;\n",
              "  }\n",
              "</style>\n",
              "<div class=\"ansiout\">hduke@hotmail.com\n",
              "4547 Archer CommonDiazchester, CA 06566-8576\n",
              "DarkGreen\n",
              "31.92627202636016\n",
              "11.109460728682564\n",
              "37.268958868297744\n",
              "2.66403418213262\n",
              "392.2049334443264\n",
              "</div>"
            ]
          },
          "metadata": {
            "tags": []
          }
        }
      ]
    },
    {
      "cell_type": "code",
      "metadata": {
        "id": "aMFrDgYgFu3i",
        "colab_type": "code",
        "colab": {},
        "outputId": "b0895fec-6309-4fb8-d95a-aa7fad4a7d9f"
      },
      "source": [
        "from pyspark.ml.linalg import Vectors \n",
        "from pyspark.ml.feature import VectorAssembler"
      ],
      "execution_count": 0,
      "outputs": [
        {
          "output_type": "display_data",
          "data": {
            "text/html": [
              "<style scoped>\n",
              "  .ansiout {\n",
              "    display: block;\n",
              "    unicode-bidi: embed;\n",
              "    white-space: pre-wrap;\n",
              "    word-wrap: break-word;\n",
              "    word-break: break-all;\n",
              "    font-family: \"Source Code Pro\", \"Menlo\", monospace;;\n",
              "    font-size: 13px;\n",
              "    color: #555;\n",
              "    margin-left: 4px;\n",
              "    line-height: 19px;\n",
              "  }\n",
              "</style>\n",
              "<div class=\"ansiout\"></div>"
            ]
          },
          "metadata": {
            "tags": []
          }
        }
      ]
    },
    {
      "cell_type": "code",
      "metadata": {
        "id": "hCGOOOv3Fu3o",
        "colab_type": "code",
        "colab": {},
        "outputId": "c5804796-5e4b-4ab7-f394-6c084b69fcf7"
      },
      "source": [
        "df.columns"
      ],
      "execution_count": 0,
      "outputs": [
        {
          "output_type": "display_data",
          "data": {
            "text/html": [
              "<style scoped>\n",
              "  .ansiout {\n",
              "    display: block;\n",
              "    unicode-bidi: embed;\n",
              "    white-space: pre-wrap;\n",
              "    word-wrap: break-word;\n",
              "    word-break: break-all;\n",
              "    font-family: \"Source Code Pro\", \"Menlo\", monospace;;\n",
              "    font-size: 13px;\n",
              "    color: #555;\n",
              "    margin-left: 4px;\n",
              "    line-height: 19px;\n",
              "  }\n",
              "</style>\n",
              "<div class=\"ansiout\">Out[13]: [&#39;Email&#39;,\n",
              " &#39;Address&#39;,\n",
              " &#39;Avatar&#39;,\n",
              " &#39;Avg Session Length&#39;,\n",
              " &#39;Time on App&#39;,\n",
              " &#39;Time on Website&#39;,\n",
              " &#39;Length of Membership&#39;,\n",
              " &#39;Yearly Amount Spent&#39;]</div>"
            ]
          },
          "metadata": {
            "tags": []
          }
        }
      ]
    },
    {
      "cell_type": "code",
      "metadata": {
        "id": "hpYzlQ0LFu3u",
        "colab_type": "code",
        "colab": {},
        "outputId": "9d8d3874-41a6-4253-afa0-4dce8fe47ee2"
      },
      "source": [
        "assembler = VectorAssembler(inputCols = ['Avg Session Length', 'Time on App', 'Time on Website','Length of Membership'],outputCol ='features')"
      ],
      "execution_count": 0,
      "outputs": [
        {
          "output_type": "display_data",
          "data": {
            "text/html": [
              "<style scoped>\n",
              "  .ansiout {\n",
              "    display: block;\n",
              "    unicode-bidi: embed;\n",
              "    white-space: pre-wrap;\n",
              "    word-wrap: break-word;\n",
              "    word-break: break-all;\n",
              "    font-family: \"Source Code Pro\", \"Menlo\", monospace;;\n",
              "    font-size: 13px;\n",
              "    color: #555;\n",
              "    margin-left: 4px;\n",
              "    line-height: 19px;\n",
              "  }\n",
              "</style>\n",
              "<div class=\"ansiout\"></div>"
            ]
          },
          "metadata": {
            "tags": []
          }
        }
      ]
    },
    {
      "cell_type": "code",
      "metadata": {
        "id": "8gZvG9MNFu3z",
        "colab_type": "code",
        "colab": {},
        "outputId": "2d5aebc4-dd18-4258-c8c5-2ad2575c521b"
      },
      "source": [
        "output = assembler.transform(df)"
      ],
      "execution_count": 0,
      "outputs": [
        {
          "output_type": "display_data",
          "data": {
            "text/html": [
              "<style scoped>\n",
              "  .ansiout {\n",
              "    display: block;\n",
              "    unicode-bidi: embed;\n",
              "    white-space: pre-wrap;\n",
              "    word-wrap: break-word;\n",
              "    word-break: break-all;\n",
              "    font-family: \"Source Code Pro\", \"Menlo\", monospace;;\n",
              "    font-size: 13px;\n",
              "    color: #555;\n",
              "    margin-left: 4px;\n",
              "    line-height: 19px;\n",
              "  }\n",
              "</style>\n",
              "<div class=\"ansiout\"></div>"
            ]
          },
          "metadata": {
            "tags": []
          }
        }
      ]
    },
    {
      "cell_type": "code",
      "metadata": {
        "id": "Y-UPu6XlFu37",
        "colab_type": "code",
        "colab": {},
        "outputId": "dff1a4b2-a63d-4e3d-9809-86b51fab4914"
      },
      "source": [
        "output.printSchema()"
      ],
      "execution_count": 0,
      "outputs": [
        {
          "output_type": "display_data",
          "data": {
            "text/html": [
              "<style scoped>\n",
              "  .ansiout {\n",
              "    display: block;\n",
              "    unicode-bidi: embed;\n",
              "    white-space: pre-wrap;\n",
              "    word-wrap: break-word;\n",
              "    word-break: break-all;\n",
              "    font-family: \"Source Code Pro\", \"Menlo\", monospace;;\n",
              "    font-size: 13px;\n",
              "    color: #555;\n",
              "    margin-left: 4px;\n",
              "    line-height: 19px;\n",
              "  }\n",
              "</style>\n",
              "<div class=\"ansiout\">root\n",
              "-- Email: string (nullable = true)\n",
              "-- Address: string (nullable = true)\n",
              "-- Avatar: string (nullable = true)\n",
              "-- Avg Session Length: double (nullable = true)\n",
              "-- Time on App: double (nullable = true)\n",
              "-- Time on Website: double (nullable = true)\n",
              "-- Length of Membership: double (nullable = true)\n",
              "-- Yearly Amount Spent: double (nullable = true)\n",
              "-- features: vector (nullable = true)\n",
              "\n",
              "</div>"
            ]
          },
          "metadata": {
            "tags": []
          }
        }
      ]
    },
    {
      "cell_type": "code",
      "metadata": {
        "id": "tHXI6H86Fu3_",
        "colab_type": "code",
        "colab": {},
        "outputId": "e698f070-724a-45de-c358-bbae7defaccd"
      },
      "source": [
        "output.select('features').show()"
      ],
      "execution_count": 0,
      "outputs": [
        {
          "output_type": "display_data",
          "data": {
            "text/html": [
              "<style scoped>\n",
              "  .ansiout {\n",
              "    display: block;\n",
              "    unicode-bidi: embed;\n",
              "    white-space: pre-wrap;\n",
              "    word-wrap: break-word;\n",
              "    word-break: break-all;\n",
              "    font-family: \"Source Code Pro\", \"Menlo\", monospace;;\n",
              "    font-size: 13px;\n",
              "    color: #555;\n",
              "    margin-left: 4px;\n",
              "    line-height: 19px;\n",
              "  }\n",
              "</style>\n",
              "<div class=\"ansiout\">+--------------------+\n",
              "            features|\n",
              "+--------------------+\n",
              "[34.4972677251122...|\n",
              "[31.9262720263601...|\n",
              "[33.0009147556426...|\n",
              "[34.3055566297555...|\n",
              "[33.3306725236463...|\n",
              "[33.8710378793419...|\n",
              "[32.0215955013870...|\n",
              "[32.7391429383803...|\n",
              "[33.9877728956856...|\n",
              "[31.9365486184489...|\n",
              "[33.9925727749537...|\n",
              "[33.8793608248049...|\n",
              "[29.5324289670579...|\n",
              "[33.1903340437226...|\n",
              "[32.3879758531538...|\n",
              "[30.7377203726281...|\n",
              "[32.1253868972878...|\n",
              "[32.3388993230671...|\n",
              "[32.1878120459321...|\n",
              "[32.6178560628234...|\n",
              "+--------------------+\n",
              "only showing top 20 rows\n",
              "\n",
              "</div>"
            ]
          },
          "metadata": {
            "tags": []
          }
        }
      ]
    },
    {
      "cell_type": "code",
      "metadata": {
        "id": "wyMQx2jkFu4E",
        "colab_type": "code",
        "colab": {},
        "outputId": "323ae300-5b55-4d8e-b6d3-af775a521fe3"
      },
      "source": [
        "final_data = output.select('features','Yearly Amount Spent')"
      ],
      "execution_count": 0,
      "outputs": [
        {
          "output_type": "display_data",
          "data": {
            "text/html": [
              "<style scoped>\n",
              "  .ansiout {\n",
              "    display: block;\n",
              "    unicode-bidi: embed;\n",
              "    white-space: pre-wrap;\n",
              "    word-wrap: break-word;\n",
              "    word-break: break-all;\n",
              "    font-family: \"Source Code Pro\", \"Menlo\", monospace;;\n",
              "    font-size: 13px;\n",
              "    color: #555;\n",
              "    margin-left: 4px;\n",
              "    line-height: 19px;\n",
              "  }\n",
              "</style>\n",
              "<div class=\"ansiout\"></div>"
            ]
          },
          "metadata": {
            "tags": []
          }
        }
      ]
    },
    {
      "cell_type": "code",
      "metadata": {
        "id": "o7tSey_oFu4L",
        "colab_type": "code",
        "colab": {},
        "outputId": "12e65c06-0577-4763-b7b8-8e78903ff545"
      },
      "source": [
        "final_data.show()"
      ],
      "execution_count": 0,
      "outputs": [
        {
          "output_type": "display_data",
          "data": {
            "text/html": [
              "<style scoped>\n",
              "  .ansiout {\n",
              "    display: block;\n",
              "    unicode-bidi: embed;\n",
              "    white-space: pre-wrap;\n",
              "    word-wrap: break-word;\n",
              "    word-break: break-all;\n",
              "    font-family: \"Source Code Pro\", \"Menlo\", monospace;;\n",
              "    font-size: 13px;\n",
              "    color: #555;\n",
              "    margin-left: 4px;\n",
              "    line-height: 19px;\n",
              "  }\n",
              "</style>\n",
              "<div class=\"ansiout\">+--------------------+-------------------+\n",
              "            features|Yearly Amount Spent|\n",
              "+--------------------+-------------------+\n",
              "[34.4972677251122...|  587.9510539684005|\n",
              "[31.9262720263601...|  392.2049334443264|\n",
              "[33.0009147556426...| 487.54750486747207|\n",
              "[34.3055566297555...|  581.8523440352177|\n",
              "[33.3306725236463...|  599.4060920457634|\n",
              "[33.8710378793419...|   637.102447915074|\n",
              "[32.0215955013870...|  521.5721747578274|\n",
              "[32.7391429383803...|  549.9041461052942|\n",
              "[33.9877728956856...|  570.2004089636196|\n",
              "[31.9365486184489...|  427.1993848953282|\n",
              "[33.9925727749537...|  492.6060127179966|\n",
              "[33.8793608248049...|  522.3374046069357|\n",
              "[29.5324289670579...|  408.6403510726275|\n",
              "[33.1903340437226...|  573.4158673313865|\n",
              "[32.3879758531538...|  470.4527333009554|\n",
              "[30.7377203726281...|  461.7807421962299|\n",
              "[32.1253868972878...| 457.84769594494855|\n",
              "[32.3388993230671...| 407.70454754954415|\n",
              "[32.1878120459321...|  452.3156754800354|\n",
              "[32.6178560628234...|   605.061038804892|\n",
              "+--------------------+-------------------+\n",
              "only showing top 20 rows\n",
              "\n",
              "</div>"
            ]
          },
          "metadata": {
            "tags": []
          }
        }
      ]
    },
    {
      "cell_type": "code",
      "metadata": {
        "id": "89HMxDnpFu4Q",
        "colab_type": "code",
        "colab": {},
        "outputId": "cca932d0-7731-4c21-d5d3-577c04e858af"
      },
      "source": [
        "train_data ,test_data = final_data.randomSplit([0.7,0.3])"
      ],
      "execution_count": 0,
      "outputs": [
        {
          "output_type": "display_data",
          "data": {
            "text/html": [
              "<style scoped>\n",
              "  .ansiout {\n",
              "    display: block;\n",
              "    unicode-bidi: embed;\n",
              "    white-space: pre-wrap;\n",
              "    word-wrap: break-word;\n",
              "    word-break: break-all;\n",
              "    font-family: \"Source Code Pro\", \"Menlo\", monospace;;\n",
              "    font-size: 13px;\n",
              "    color: #555;\n",
              "    margin-left: 4px;\n",
              "    line-height: 19px;\n",
              "  }\n",
              "</style>\n",
              "<div class=\"ansiout\"></div>"
            ]
          },
          "metadata": {
            "tags": []
          }
        }
      ]
    },
    {
      "cell_type": "code",
      "metadata": {
        "id": "V55CuUJLFu4X",
        "colab_type": "code",
        "colab": {},
        "outputId": "362cf3bd-735e-46e8-8707-2e9d81232c05"
      },
      "source": [
        "train_data.describe().show()"
      ],
      "execution_count": 0,
      "outputs": [
        {
          "output_type": "display_data",
          "data": {
            "text/html": [
              "<style scoped>\n",
              "  .ansiout {\n",
              "    display: block;\n",
              "    unicode-bidi: embed;\n",
              "    white-space: pre-wrap;\n",
              "    word-wrap: break-word;\n",
              "    word-break: break-all;\n",
              "    font-family: \"Source Code Pro\", \"Menlo\", monospace;;\n",
              "    font-size: 13px;\n",
              "    color: #555;\n",
              "    margin-left: 4px;\n",
              "    line-height: 19px;\n",
              "  }\n",
              "</style>\n",
              "<div class=\"ansiout\">+-------+-------------------+\n",
              "summary|Yearly Amount Spent|\n",
              "+-------+-------------------+\n",
              "  count|                360|\n",
              "   mean| 499.54910066486804|\n",
              " stddev|  81.39364084009337|\n",
              "    min| 256.67058229005585|\n",
              "    max|  765.5184619388373|\n",
              "+-------+-------------------+\n",
              "\n",
              "</div>"
            ]
          },
          "metadata": {
            "tags": []
          }
        }
      ]
    },
    {
      "cell_type": "code",
      "metadata": {
        "id": "8C3weL1JFu4g",
        "colab_type": "code",
        "colab": {},
        "outputId": "0275dd36-e265-403b-8112-6b5af0489dd3"
      },
      "source": [
        "lr = LinearRegression(labelCol = 'Yearly Amount Spent')"
      ],
      "execution_count": 0,
      "outputs": [
        {
          "output_type": "display_data",
          "data": {
            "text/html": [
              "<style scoped>\n",
              "  .ansiout {\n",
              "    display: block;\n",
              "    unicode-bidi: embed;\n",
              "    white-space: pre-wrap;\n",
              "    word-wrap: break-word;\n",
              "    word-break: break-all;\n",
              "    font-family: \"Source Code Pro\", \"Menlo\", monospace;;\n",
              "    font-size: 13px;\n",
              "    color: #555;\n",
              "    margin-left: 4px;\n",
              "    line-height: 19px;\n",
              "  }\n",
              "</style>\n",
              "<div class=\"ansiout\"></div>"
            ]
          },
          "metadata": {
            "tags": []
          }
        }
      ]
    },
    {
      "cell_type": "code",
      "metadata": {
        "id": "dYtvw6DEFu4o",
        "colab_type": "code",
        "colab": {},
        "outputId": "ea23f083-ff38-4ca8-c4e8-82109e007b3d"
      },
      "source": [
        "lr_model = lr.fit(train_data)"
      ],
      "execution_count": 0,
      "outputs": [
        {
          "output_type": "display_data",
          "data": {
            "text/html": [
              "<style scoped>\n",
              "  .ansiout {\n",
              "    display: block;\n",
              "    unicode-bidi: embed;\n",
              "    white-space: pre-wrap;\n",
              "    word-wrap: break-word;\n",
              "    word-break: break-all;\n",
              "    font-family: \"Source Code Pro\", \"Menlo\", monospace;;\n",
              "    font-size: 13px;\n",
              "    color: #555;\n",
              "    margin-left: 4px;\n",
              "    line-height: 19px;\n",
              "  }\n",
              "</style>\n",
              "<div class=\"ansiout\"></div>"
            ]
          },
          "metadata": {
            "tags": []
          }
        }
      ]
    },
    {
      "cell_type": "code",
      "metadata": {
        "id": "A2JNS3S8Fu4v",
        "colab_type": "code",
        "colab": {},
        "outputId": "e7b3f15a-2415-42f0-dd5c-f0d8237a248c"
      },
      "source": [
        "test_results = lr_model.evaluate(test_data)"
      ],
      "execution_count": 0,
      "outputs": [
        {
          "output_type": "display_data",
          "data": {
            "text/html": [
              "<style scoped>\n",
              "  .ansiout {\n",
              "    display: block;\n",
              "    unicode-bidi: embed;\n",
              "    white-space: pre-wrap;\n",
              "    word-wrap: break-word;\n",
              "    word-break: break-all;\n",
              "    font-family: \"Source Code Pro\", \"Menlo\", monospace;;\n",
              "    font-size: 13px;\n",
              "    color: #555;\n",
              "    margin-left: 4px;\n",
              "    line-height: 19px;\n",
              "  }\n",
              "</style>\n",
              "<div class=\"ansiout\"></div>"
            ]
          },
          "metadata": {
            "tags": []
          }
        }
      ]
    },
    {
      "cell_type": "code",
      "metadata": {
        "id": "QroaDtCgFu40",
        "colab_type": "code",
        "colab": {},
        "outputId": "9828f6d3-a51a-4245-a125-5bf5da74f6c0"
      },
      "source": [
        "test_results.residuals.show()"
      ],
      "execution_count": 0,
      "outputs": [
        {
          "output_type": "display_data",
          "data": {
            "text/html": [
              "<style scoped>\n",
              "  .ansiout {\n",
              "    display: block;\n",
              "    unicode-bidi: embed;\n",
              "    white-space: pre-wrap;\n",
              "    word-wrap: break-word;\n",
              "    word-break: break-all;\n",
              "    font-family: \"Source Code Pro\", \"Menlo\", monospace;;\n",
              "    font-size: 13px;\n",
              "    color: #555;\n",
              "    margin-left: 4px;\n",
              "    line-height: 19px;\n",
              "  }\n",
              "</style>\n",
              "<div class=\"ansiout\">+-------------------+\n",
              "          residuals|\n",
              "+-------------------+\n",
              " 10.811358664094541|\n",
              "-10.962507546232814|\n",
              "-3.8993723155728617|\n",
              "  4.474793026400107|\n",
              " -5.813438081137122|\n",
              " -7.771054182688658|\n",
              "-0.7771838647171307|\n",
              " 22.285453490394275|\n",
              "  4.157502385155681|\n",
              " -4.247458721088378|\n",
              "   2.56275524470783|\n",
              " -6.252245830155971|\n",
              " -2.080904834718581|\n",
              "  18.30195162233872|\n",
              " -7.472909157491472|\n",
              " -9.330081464003058|\n",
              "  1.492311998865489|\n",
              "-2.3526399327208765|\n",
              "-10.392767003265476|\n",
              " -5.144315979787905|\n",
              "+-------------------+\n",
              "only showing top 20 rows\n",
              "\n",
              "</div>"
            ]
          },
          "metadata": {
            "tags": []
          }
        }
      ]
    },
    {
      "cell_type": "code",
      "metadata": {
        "id": "z-Lu51BWFu44",
        "colab_type": "code",
        "colab": {},
        "outputId": "74d43692-6793-4c2f-b940-0ffc498de48b"
      },
      "source": [
        "test_results.rootMeanSquaredError"
      ],
      "execution_count": 0,
      "outputs": [
        {
          "output_type": "display_data",
          "data": {
            "text/html": [
              "<style scoped>\n",
              "  .ansiout {\n",
              "    display: block;\n",
              "    unicode-bidi: embed;\n",
              "    white-space: pre-wrap;\n",
              "    word-wrap: break-word;\n",
              "    word-break: break-all;\n",
              "    font-family: \"Source Code Pro\", \"Menlo\", monospace;;\n",
              "    font-size: 13px;\n",
              "    color: #555;\n",
              "    margin-left: 4px;\n",
              "    line-height: 19px;\n",
              "  }\n",
              "</style>\n",
              "<div class=\"ansiout\">Out[27]: 10.623651650723776</div>"
            ]
          },
          "metadata": {
            "tags": []
          }
        }
      ]
    },
    {
      "cell_type": "code",
      "metadata": {
        "id": "MNnz3RaSFu4-",
        "colab_type": "code",
        "colab": {},
        "outputId": "bcb21938-521c-438e-8449-1ae2e4d45c46"
      },
      "source": [
        "test_results.r2"
      ],
      "execution_count": 0,
      "outputs": [
        {
          "output_type": "display_data",
          "data": {
            "text/html": [
              "<style scoped>\n",
              "  .ansiout {\n",
              "    display: block;\n",
              "    unicode-bidi: embed;\n",
              "    white-space: pre-wrap;\n",
              "    word-wrap: break-word;\n",
              "    word-break: break-all;\n",
              "    font-family: \"Source Code Pro\", \"Menlo\", monospace;;\n",
              "    font-size: 13px;\n",
              "    color: #555;\n",
              "    margin-left: 4px;\n",
              "    line-height: 19px;\n",
              "  }\n",
              "</style>\n",
              "<div class=\"ansiout\">Out[28]: 0.9792289702469446</div>"
            ]
          },
          "metadata": {
            "tags": []
          }
        }
      ]
    },
    {
      "cell_type": "code",
      "metadata": {
        "id": "-FpoGDpWFu5D",
        "colab_type": "code",
        "colab": {},
        "outputId": "8e7e7c5f-102d-443e-c39b-4c4022b6ced9"
      },
      "source": [
        "final_data.describe().show()"
      ],
      "execution_count": 0,
      "outputs": [
        {
          "output_type": "display_data",
          "data": {
            "text/html": [
              "<style scoped>\n",
              "  .ansiout {\n",
              "    display: block;\n",
              "    unicode-bidi: embed;\n",
              "    white-space: pre-wrap;\n",
              "    word-wrap: break-word;\n",
              "    word-break: break-all;\n",
              "    font-family: \"Source Code Pro\", \"Menlo\", monospace;;\n",
              "    font-size: 13px;\n",
              "    color: #555;\n",
              "    margin-left: 4px;\n",
              "    line-height: 19px;\n",
              "  }\n",
              "</style>\n",
              "<div class=\"ansiout\">+-------+-------------------+\n",
              "summary|Yearly Amount Spent|\n",
              "+-------+-------------------+\n",
              "  count|                500|\n",
              "   mean|  499.3140382585909|\n",
              " stddev|   79.3147815497068|\n",
              "    min| 256.67058229005585|\n",
              "    max|  765.5184619388373|\n",
              "+-------+-------------------+\n",
              "\n",
              "</div>"
            ]
          },
          "metadata": {
            "tags": []
          }
        }
      ]
    },
    {
      "cell_type": "code",
      "metadata": {
        "id": "HkVnGMkqFu5L",
        "colab_type": "code",
        "colab": {},
        "outputId": "864d28a3-89c3-4d32-bbb0-e05b6b04422f"
      },
      "source": [
        "unlabeled_data = test_data.select('features')"
      ],
      "execution_count": 0,
      "outputs": [
        {
          "output_type": "display_data",
          "data": {
            "text/html": [
              "<style scoped>\n",
              "  .ansiout {\n",
              "    display: block;\n",
              "    unicode-bidi: embed;\n",
              "    white-space: pre-wrap;\n",
              "    word-wrap: break-word;\n",
              "    word-break: break-all;\n",
              "    font-family: \"Source Code Pro\", \"Menlo\", monospace;;\n",
              "    font-size: 13px;\n",
              "    color: #555;\n",
              "    margin-left: 4px;\n",
              "    line-height: 19px;\n",
              "  }\n",
              "</style>\n",
              "<div class=\"ansiout\"></div>"
            ]
          },
          "metadata": {
            "tags": []
          }
        }
      ]
    },
    {
      "cell_type": "code",
      "metadata": {
        "id": "eE-kr73tFu5S",
        "colab_type": "code",
        "colab": {},
        "outputId": "3d71b1e9-9abb-44a9-8e6d-75162df661e2"
      },
      "source": [
        "preds = lr_model.transform(unlabeled_data)"
      ],
      "execution_count": 0,
      "outputs": [
        {
          "output_type": "display_data",
          "data": {
            "text/html": [
              "<style scoped>\n",
              "  .ansiout {\n",
              "    display: block;\n",
              "    unicode-bidi: embed;\n",
              "    white-space: pre-wrap;\n",
              "    word-wrap: break-word;\n",
              "    word-break: break-all;\n",
              "    font-family: \"Source Code Pro\", \"Menlo\", monospace;;\n",
              "    font-size: 13px;\n",
              "    color: #555;\n",
              "    margin-left: 4px;\n",
              "    line-height: 19px;\n",
              "  }\n",
              "</style>\n",
              "<div class=\"ansiout\"></div>"
            ]
          },
          "metadata": {
            "tags": []
          }
        }
      ]
    },
    {
      "cell_type": "code",
      "metadata": {
        "id": "ju7H8TC3Fu5X",
        "colab_type": "code",
        "colab": {},
        "outputId": "55aa78eb-8d31-4323-fa91-9e85b7fe5a03"
      },
      "source": [
        "preds.show()"
      ],
      "execution_count": 0,
      "outputs": [
        {
          "output_type": "display_data",
          "data": {
            "text/html": [
              "<style scoped>\n",
              "  .ansiout {\n",
              "    display: block;\n",
              "    unicode-bidi: embed;\n",
              "    white-space: pre-wrap;\n",
              "    word-wrap: break-word;\n",
              "    word-break: break-all;\n",
              "    font-family: \"Source Code Pro\", \"Menlo\", monospace;;\n",
              "    font-size: 13px;\n",
              "    color: #555;\n",
              "    margin-left: 4px;\n",
              "    line-height: 19px;\n",
              "  }\n",
              "</style>\n",
              "<div class=\"ansiout\">+--------------------+------------------+\n",
              "            features|        prediction|\n",
              "+--------------------+------------------+\n",
              "[29.5324289670579...|397.82899240853294|\n",
              "[30.3931845423455...| 330.8913773494264|\n",
              "[30.8794843441274...|494.10597230042754|\n",
              "[31.0472221394875...| 388.0226061626213|\n",
              "[31.0613251567161...| 493.3688961390387|\n",
              "[31.1280900496166...| 565.0237409297433|\n",
              "[31.2606468698795...| 422.1038151216685|\n",
              "[31.2834474760581...| 569.4956359352732|\n",
              "[31.3662121671876...|426.43138017132924|\n",
              "[31.4252268808548...| 535.0141773758503|\n",
              "[31.4459724827577...|482.31420969042074|\n",
              "[31.5147378578019...| 496.0647338266174|\n",
              "[31.5761319713222...| 543.3074888240469|\n",
              "[31.6005122003032...| 460.8708998687582|\n",
              "[31.7207699002873...| 546.2478426355144|\n",
              "[31.8279790554652...| 449.3328290109446|\n",
              "[31.8293464559211...| 383.6600259891095|\n",
              "[31.8530748017465...|461.63776339507285|\n",
              "[31.8648325480987...|450.28404748007915|\n",
              "[31.8745516945853...| 397.4295602260554|\n",
              "+--------------------+------------------+\n",
              "only showing top 20 rows\n",
              "\n",
              "</div>"
            ]
          },
          "metadata": {
            "tags": []
          }
        }
      ]
    },
    {
      "cell_type": "code",
      "metadata": {
        "id": "8nrt-2oAFu5b",
        "colab_type": "code",
        "colab": {}
      },
      "source": [
        ""
      ],
      "execution_count": 0,
      "outputs": []
    }
  ]
}